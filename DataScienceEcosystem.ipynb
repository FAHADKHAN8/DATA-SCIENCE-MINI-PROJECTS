{
 "cells": [
  {
   "cell_type": "markdown",
   "id": "de43737c-cf67-4970-a2a9-91b47d28ae83",
   "metadata": {},
   "source": [
    "# Exercise 2: Create markdown cell with title of the notebook\n",
    "# Data Science Tools and Ecosystem"
   ]
  },
  {
   "cell_type": "markdown",
   "id": "b2d2a193-0a79-4c27-8e07-007f348d34a2",
   "metadata": {},
   "source": [
    "# Exercise 3 - Create a markdown cell for an introduction\n",
    "## Introduction\n",
    "### In this notebook, Data Science Tools and Ecosystem are summarized."
   ]
  },
  {
   "cell_type": "markdown",
   "id": "34aa70e3-8ddd-4177-bc60-28c35803736d",
   "metadata": {},
   "source": [
    "# Exercise 10 - Insert a markdown cell to list Objectives\n",
    "## Objectives:\n",
    "+ Some of the popular languages that Data Scientists\n",
    "+ Some of the commonly used libraries used by Data Scientist\n",
    "+ table of Data Science tools\n",
    "+ arithmetic expression examples"
   ]
  },
  {
   "cell_type": "markdown",
   "id": "50e6a64c-592f-4544-9977-54d274bf6a4f",
   "metadata": {},
   "source": [
    "# Exercise 4 - Create a markdown cell to list data science languages\n",
    "## Data Science Languages\n",
    "\n",
    "## Some of the popular languages that Data Scientists use are:\n",
    "1. Python\n",
    "2. R Language\n",
    "3. Julia\n",
    "4. Scala"
   ]
  },
  {
   "cell_type": "markdown",
   "id": "0ab18b6c-3a76-4830-a4da-a5e2c9dbb4a0",
   "metadata": {
    "tags": []
   },
   "source": [
    "# Exercise 5 - Create a markdown cell to list data science libraries\n",
    "## Some of the commonly used libraries used by Data Scientists include:\n",
    "1. Keras\n",
    "2. Tensorflow\n",
    "3. Scikit\n",
    "4.caret\n"
   ]
  },
  {
   "cell_type": "markdown",
   "id": "462b48d0-2e9e-490d-982e-1c0632fd139d",
   "metadata": {},
   "source": [
    "# Exercise 6 - Create a markdown cell with a table of Data Science tools\n",
    "| Data Science Tools  |\n",
    "|---------------------|\n",
    "| Jupyter Notebook  |\n",
    "| RStudio |\n",
    "|Visual Studio Code (VS Code) |\n"
   ]
  },
  {
   "cell_type": "markdown",
   "id": "87a110d9-0737-437d-ac2c-44f05a757aae",
   "metadata": {},
   "source": [
    "# Exercise 7 - Create a markdown cell introducing arithmetic expression examples\n",
    "### Below are a few examples of evaluating arithmetic expressions in Python\n"
   ]
  },
  {
   "cell_type": "code",
   "execution_count": 10,
   "id": "8d8259ad-7e2d-404a-80b3-c48b724d4fd0",
   "metadata": {
    "tags": []
   },
   "outputs": [
    {
     "data": {
      "text/plain": [
       "17"
      ]
     },
     "execution_count": 10,
     "metadata": {},
     "output_type": "execute_result"
    }
   ],
   "source": [
    "# This a simple arithmetic expression to mutiply then add integers\n",
    "(3*4)+5"
   ]
  },
  {
   "cell_type": "code",
   "execution_count": 11,
   "id": "db0b8d6b-5586-4980-bf4a-20bd9b99c6b2",
   "metadata": {
    "tags": []
   },
   "outputs": [
    {
     "name": "stdout",
     "output_type": "stream",
     "text": [
      "3.3333333333333335\n"
     ]
    }
   ],
   "source": [
    "# Exercise 9 - Create a code cell to convert minutes to hours\n",
    "# This will convert 200 minutes to hours by diving by 60\n",
    "print(200/60)\n"
   ]
  },
  {
   "cell_type": "markdown",
   "id": "37e13331-0d38-4e8e-b521-a7b737499eac",
   "metadata": {},
   "source": [
    "# Exercise 11 - Create a markdown cell to indicate the Author's name\n",
    "## Author\n",
    "Mohammad Fahad Khan\n",
    "\n"
   ]
  }
 ],
 "metadata": {
  "kernelspec": {
   "display_name": "Python",
   "language": "python",
   "name": "conda-env-python-py"
  },
  "language_info": {
   "codemirror_mode": {
    "name": "ipython",
    "version": 3
   },
   "file_extension": ".py",
   "mimetype": "text/x-python",
   "name": "python",
   "nbconvert_exporter": "python",
   "pygments_lexer": "ipython3",
   "version": "3.7.12"
  }
 },
 "nbformat": 4,
 "nbformat_minor": 5
}
