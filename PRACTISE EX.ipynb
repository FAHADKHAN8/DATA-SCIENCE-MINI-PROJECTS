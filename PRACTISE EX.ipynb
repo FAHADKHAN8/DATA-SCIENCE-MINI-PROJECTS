{
  "metadata": {
    "kernelspec": {
      "name": "python",
      "display_name": "Python (Pyodide)",
      "language": "python"
    },
    "language_info": {
      "codemirror_mode": {
        "name": "python",
        "version": 3
      },
      "file_extension": ".py",
      "mimetype": "text/x-python",
      "name": "python",
      "nbconvert_exporter": "python",
      "pygments_lexer": "ipython3",
      "version": "3.8"
    }
  },
  "nbformat_minor": 4,
  "nbformat": 4,
  "cells": [
    {
      "cell_type": "markdown",
      "source": "# 1.  Welcome to Python programming\nimage :![This is SN labs New Launcher](https://cf-courses-data.s3.us.cloud-object-storage.appdomain.cloud/IBMDeveloperSkillsNetwork-DS0105EN-SkillsNetwork/labs/Labs_V4/images/Launcher.png)",
      "metadata": {}
    },
    {
      "cell_type": "markdown",
      "source": "# 2. Tools For Data Science\n[Tools For Data Science](https://www.coursera.org/learn/open-source-tools-for-data-science/home)",
      "metadata": {}
    },
    {
      "cell_type": "markdown",
      "source": "# 3. table\n|FRUITS  | QUANTITY(KG) | PRICE (IN RUPEE) |\n|--------|--------------|------------------|\n|APPLE|2 |500|\n|ORANGE |1 |200|\n|GRAPE |2 |400 |\n",
      "metadata": {}
    },
    {
      "cell_type": "markdown",
      "source": "# 4. ORDERED LIST\n1. PYTHON\n2. JAVA \n3. C++\n4. C",
      "metadata": {}
    },
    {
      "cell_type": "code",
      "source": "",
      "metadata": {
        "trusted": true
      },
      "outputs": [],
      "execution_count": null
    }
  ]
}